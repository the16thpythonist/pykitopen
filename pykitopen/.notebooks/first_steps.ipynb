{
 "cells": [
  {
   "cell_type": "code",
   "execution_count": 49,
   "outputs": [],
   "source": [
    "import os\n",
    "import tempfile\n",
    "import zipfile\n",
    "import json\n",
    "import csv\n",
    "from pprint import pprint\n",
    "\n",
    "import requests\n"
   ],
   "metadata": {
    "collapsed": false,
    "pycharm": {
     "name": "#%%\n",
     "is_executing": false
    }
   }
  },
  {
   "cell_type": "code",
   "execution_count": 50,
   "metadata": {
    "collapsed": true,
    "pycharm": {
     "is_executing": false
    }
   },
   "outputs": [],
   "source": [
    "KITOPEN_CONFIG = {\n",
    "    'EVALUATION_URL':         'https://publikationen.bibliothek.kit.edu/auswertungen/'\n",
    "}\n"
   ]
  },
  {
   "cell_type": "code",
   "execution_count": 51,
   "outputs": [
    {
     "name": "stdout",
     "text": [
      "doi,title,collaborations,id,pof_structure\n",
      "<Response [200]>\n"
     ],
     "output_type": "stream"
    }
   ],
   "source": [
    "url = os.path.join(KITOPEN_CONFIG['EVALUATION_URL'], 'report.php')\n",
    "parameters = {\n",
    "    'external_publications':                        'kit',\n",
    "    'open_access_availability':                     'do_not_care',\n",
    "    'full_text':                                    'do_not_care',\n",
    "    'key_figures':                                  'number_of_publications',\n",
    "    'year':                                         '2019-',\n",
    "    'consider_online_advance_publication_date':     'true',\n",
    "    'consider_additional_pof_structures':           'false',\n",
    "    'row':                                          'type',\n",
    "    'column':                                       'year',\n",
    "    'authors':                                      'KOPMANN',\n",
    "    'table_fields':                                 \",\".join(['doi', 'title', 'collaborations', 'id', 'pof_structure']),\n",
    "    'format':                                       'csv',\n",
    "    'publications':                                 'true'\n",
    "}\n",
    "print(parameters['table_fields'])\n",
    "response = requests.get(url=url, params=parameters)\n",
    "print(response)\n",
    "zip_content = response.content"
   ],
   "metadata": {
    "collapsed": false,
    "pycharm": {
     "name": "#%%\n",
     "is_executing": false
    }
   }
  },
  {
   "cell_type": "code",
   "execution_count": 52,
   "outputs": [],
   "source": [
    "temp_dir = tempfile.TemporaryDirectory()"
   ],
   "metadata": {
    "collapsed": false,
    "pycharm": {
     "name": "#%% \n",
     "is_executing": false
    }
   }
  },
  {
   "cell_type": "code",
   "execution_count": 53,
   "outputs": [],
   "source": [
    "temp_file = tempfile.TemporaryFile()\n",
    "temp_file.write(zip_content)\n",
    "\n",
    "with zipfile.ZipFile(temp_file, mode='r') as zip_file:\n",
    "    zip_file.extractall(temp_dir.name)\n",
    "    \n",
    "csv_path = os.path.join(temp_dir.name, 'Publikationen.csv')"
   ],
   "metadata": {
    "collapsed": false,
    "pycharm": {
     "name": "#%%\n",
     "is_executing": false
    }
   }
  },
  {
   "cell_type": "code",
   "execution_count": 57,
   "outputs": [
    {
     "name": "stdout",
     "text": [
      "OrderedDict([('DOI', '10.1140/epjc/s10052-020-7718-z'), ('Titel', 'First operation of the KATRIN experiment with tritium'), ('Kollaborationen', ''), ('ID', '1000117959'), ('POF-Struktur', '51.03.01 (POF III, LK 01)')])\n",
      "OrderedDict([('DOI', '10.1103/PhysRevLett.123.221802'), ('Titel', 'Improved Upper Limit on the Neutrino Mass from a Direct Kinematic Method by KATRIN'), ('Kollaborationen', 'KATRIN Collaboration'), ('ID', '1000100414'), ('POF-Struktur', '')])\n",
      "OrderedDict([('DOI', '10.1016/j.astropartphys.2019.01.003'), ('Titel', 'Muon-induced background in the KATRIN main spectrometer'), ('Kollaborationen', ''), ('ID', '1000090015'), ('POF-Struktur', '51.03.01 (POF III, LK 01)')])\n",
      "OrderedDict([('DOI', '10.1140/epjc/s10052-019-7320-4'), ('Titel', 'Gamma-induced background in the KATRIN main spectrometer'), ('Kollaborationen', ''), ('ID', '1000098709'), ('POF-Struktur', '51.03.01 (POF III, LK 01)')])\n",
      "OrderedDict([('DOI', '10.1007/s11554-019-00883-w'), ('Titel', 'Reviewing GPU architectures to build efficient back projection for parallel geometries [in press]'), ('Kollaborationen', ''), ('ID', '1000096506'), ('POF-Struktur', '')])\n",
      "OrderedDict([('DOI', '10.1109/TNS.2019.2893444'), ('Titel', 'Real-time Local Noise Filter in 3D Visualization of CT Data'), ('Kollaborationen', ''), ('ID', '1000095370'), ('POF-Struktur', '54.02.02 (POF III, LK 01)')])\n",
      "OrderedDict([('DOI', ''), ('Titel', 'Accelerating Machine Learning for Machine Physics (an AMALEA-project at KIT) [in press]'), ('Kollaborationen', ''), ('ID', '1000099095'), ('POF-Struktur', '54.01.01 (POF III, LK 01)')])\n",
      "OrderedDict([('DOI', '10.1117/12.2511341'), ('Titel', 'Ultra-fast detector for wide range spectral measurements'), ('Kollaborationen', ''), ('ID', '1000095930'), ('POF-Struktur', '54.02.02 (POF III, LK 01)')])\n",
      "OrderedDict([('DOI', '10.1117/12.2508451'), ('Titel', 'Ultrafast linear array detector for real-time imaging'), ('Kollaborationen', ''), ('ID', '1000095364'), ('POF-Struktur', '54.02.02 (POF III, LK 01)')])\n",
      "OrderedDict([('DOI', '10.1109/CAHPC.2018.8645862'), ('Titel', 'Balancing Load of GPU Subsystems to Accelerate Image Reconstruction in Parallel Beam Tomography'), ('Kollaborationen', ''), ('ID', '1000094351'), ('POF-Struktur', '54.02.02 (POF III, LK 01)')])\n",
      "OrderedDict([('DOI', ''), ('Titel', 'Gamma-induced background in the KATRIN main spectrometer'), ('Kollaborationen', ''), ('ID', '1000095464'), ('POF-Struktur', '51.03.01 (POF III, LK 01)')])\n",
      "OrderedDict([('DOI', ''), ('Titel', 'Accelerating Machine Learning for Machine Physics (an AMALEA-project at KIT)'), ('Kollaborationen', ''), ('ID', '1000099090'), ('POF-Struktur', '54.01.01 (POF III, LK 01)')])\n",
      "[{'DOI': '10.1140/epjc/s10052-020-7718-z',\n",
      "  'ID': '1000117959',\n",
      "  'Kollaborationen': '',\n",
      "  'POF-Struktur': '51.03.01 (POF III, LK 01)',\n",
      "  'Titel': 'First operation of the KATRIN experiment with tritium'},\n",
      " {'DOI': '10.1103/PhysRevLett.123.221802',\n",
      "  'ID': '1000100414',\n",
      "  'Kollaborationen': 'KATRIN Collaboration',\n",
      "  'POF-Struktur': '',\n",
      "  'Titel': 'Improved Upper Limit on the Neutrino Mass from a Direct Kinematic '\n",
      "           'Method by KATRIN'},\n",
      " {'DOI': '10.1016/j.astropartphys.2019.01.003',\n",
      "  'ID': '1000090015',\n",
      "  'Kollaborationen': '',\n",
      "  'POF-Struktur': '51.03.01 (POF III, LK 01)',\n",
      "  'Titel': 'Muon-induced background in the KATRIN main spectrometer'},\n",
      " {'DOI': '10.1140/epjc/s10052-019-7320-4',\n",
      "  'ID': '1000098709',\n",
      "  'Kollaborationen': '',\n",
      "  'POF-Struktur': '51.03.01 (POF III, LK 01)',\n",
      "  'Titel': 'Gamma-induced background in the KATRIN main spectrometer'},\n",
      " {'DOI': '10.1007/s11554-019-00883-w',\n",
      "  'ID': '1000096506',\n",
      "  'Kollaborationen': '',\n",
      "  'POF-Struktur': '',\n",
      "  'Titel': 'Reviewing GPU architectures to build efficient back projection for '\n",
      "           'parallel geometries [in press]'},\n",
      " {'DOI': '10.1109/TNS.2019.2893444',\n",
      "  'ID': '1000095370',\n",
      "  'Kollaborationen': '',\n",
      "  'POF-Struktur': '54.02.02 (POF III, LK 01)',\n",
      "  'Titel': 'Real-time Local Noise Filter in 3D Visualization of CT Data'},\n",
      " {'DOI': '',\n",
      "  'ID': '1000099095',\n",
      "  'Kollaborationen': '',\n",
      "  'POF-Struktur': '54.01.01 (POF III, LK 01)',\n",
      "  'Titel': 'Accelerating Machine Learning for Machine Physics (an '\n",
      "           'AMALEA-project at KIT) [in press]'},\n",
      " {'DOI': '10.1117/12.2511341',\n",
      "  'ID': '1000095930',\n",
      "  'Kollaborationen': '',\n",
      "  'POF-Struktur': '54.02.02 (POF III, LK 01)',\n",
      "  'Titel': 'Ultra-fast detector for wide range spectral measurements'},\n",
      " {'DOI': '10.1117/12.2508451',\n",
      "  'ID': '1000095364',\n",
      "  'Kollaborationen': '',\n",
      "  'POF-Struktur': '54.02.02 (POF III, LK 01)',\n",
      "  'Titel': 'Ultrafast linear array detector for real-time imaging'},\n",
      " {'DOI': '10.1109/CAHPC.2018.8645862',\n",
      "  'ID': '1000094351',\n",
      "  'Kollaborationen': '',\n",
      "  'POF-Struktur': '54.02.02 (POF III, LK 01)',\n",
      "  'Titel': 'Balancing Load of GPU Subsystems to Accelerate Image '\n",
      "           'Reconstruction in Parallel Beam Tomography'},\n",
      " {'DOI': '',\n",
      "  'ID': '1000095464',\n",
      "  'Kollaborationen': '',\n",
      "  'POF-Struktur': '51.03.01 (POF III, LK 01)',\n",
      "  'Titel': 'Gamma-induced background in the KATRIN main spectrometer'},\n",
      " {'DOI': '',\n",
      "  'ID': '1000099090',\n",
      "  'Kollaborationen': '',\n",
      "  'POF-Struktur': '54.01.01 (POF III, LK 01)',\n",
      "  'Titel': 'Accelerating Machine Learning for Machine Physics (an '\n",
      "           'AMALEA-project at KIT)'}]\n"
     ],
     "output_type": "stream"
    }
   ],
   "source": [
    "with open(csv_path, mode='r') as file:\n",
    "    #print(file.read())\n",
    "    reader = csv.DictReader(file.readlines())\n",
    "    result = []\n",
    "    for row in reader:\n",
    "        print(row)\n",
    "        result.append(dict(row))\n",
    "        \n",
    "    pprint(result)"
   ],
   "metadata": {
    "collapsed": false,
    "pycharm": {
     "name": "#%%\n",
     "is_executing": false
    }
   }
  },
  {
   "cell_type": "code",
   "execution_count": 59,
   "outputs": [
    {
     "name": "stdout",
     "text": [
      "1\n"
     ],
     "output_type": "stream"
    }
   ],
   "source": [
    "if 'a':\n",
    "    print(1)"
   ],
   "metadata": {
    "collapsed": false,
    "pycharm": {
     "name": "#%%\n",
     "is_executing": false
    }
   }
  }
 ],
 "metadata": {
  "kernelspec": {
   "display_name": "Python 3",
   "language": "python",
   "name": "python3"
  },
  "language_info": {
   "codemirror_mode": {
    "name": "ipython",
    "version": 2
   },
   "file_extension": ".py",
   "mimetype": "text/x-python",
   "name": "python",
   "nbconvert_exporter": "python",
   "pygments_lexer": "ipython2",
   "version": "2.7.6"
  },
  "pycharm": {
   "stem_cell": {
    "cell_type": "raw",
    "source": [],
    "metadata": {
     "collapsed": false
    }
   }
  }
 },
 "nbformat": 4,
 "nbformat_minor": 0
}
