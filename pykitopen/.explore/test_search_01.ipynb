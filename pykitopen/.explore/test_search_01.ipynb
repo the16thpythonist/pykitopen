{
 "cells": [
  {
   "cell_type": "code",
   "execution_count": 53,
   "metadata": {
    "collapsed": true,
    "pycharm": {
     "is_executing": false
    }
   },
   "outputs": [],
   "source": [
    "# REGULAR IMPORTS\n",
    "import os\n",
    "\n",
    "from pprint import pprint"
   ]
  },
  {
   "cell_type": "code",
   "execution_count": 54,
   "outputs": [],
   "source": [
    "%autoreload 2\n",
    "\n",
    "# DYNAMIC IMPORTS FROM KITOPEN\n",
    "import sys\n",
    "import importlib.util\n",
    "\n",
    "def import_module(path: str):\n",
    "    name = os.path.basename(path).replace('.py', '')\n",
    "    spec = importlib.util.spec_from_file_location(name, path)\n",
    "    module = importlib.util.module_from_spec(spec)\n",
    "    spec.loader.exec_module(module)\n",
    "    return module\n",
    "\n",
    "LIBRARY_PATH = '/home/jonas/Nextcloud/Programmieren/PyCharm/pykitopen/pykitopen'\n",
    "# LIBRARY_PATH =''\n",
    "if LIBRARY_PATH:\n",
    "    base_path = os.path.dirname(LIBRARY_PATH)\n",
    "    sys.path.append(base_path)\n",
    "    \n",
    "    search = import_module(os.path.join(LIBRARY_PATH, 'search.py'))\n",
    "    config = import_module(os.path.join(LIBRARY_PATH, 'config.py'))\n",
    "    mixins = import_module(os.path.join(LIBRARY_PATH, 'mixins.py'))\n",
    "    util = import_module(os.path.join(LIBRARY_PATH, 'util.py'))\n",
    "    \n",
    "else:\n",
    "    import pykitopen.search as search\n",
    "    import pykitopen.config as config\n",
    "    import pykitopen.mixins as mixins"
   ],
   "metadata": {
    "collapsed": false,
    "pycharm": {
     "name": "#%%\n",
     "is_executing": false
    }
   }
  },
  {
   "cell_type": "code",
   "execution_count": 55,
   "outputs": [
    {
     "name": "stdout",
     "text": [
      "3\n"
     ],
     "output_type": "stream"
    }
   ],
   "source": [
    "print(search.HELLO)"
   ],
   "metadata": {
    "collapsed": false,
    "pycharm": {
     "name": "#%%\n",
     "is_executing": false
    }
   }
  },
  {
   "cell_type": "code",
   "execution_count": 56,
   "outputs": [],
   "source": [
    "class TransformTest(mixins.DictTransformationMixin):\n",
    "    \n",
    "    dict_transformation = {\n",
    "        ('int', 'str'): {\n",
    "            int:                'get_str',\n",
    "            object:             'raise_error'\n",
    "        },\n",
    "        (('add1', 'add2'), 'sum'): {\n",
    "            (int, int):         'get_sum',\n",
    "            (object, object):   'raise_error',\n",
    "        },\n",
    "        ('tuple', ('split1', 'split2')): {\n",
    "            tuple:              'get_split',\n",
    "            object:             'raise_error'\n",
    "        }\n",
    "    }\n",
    "    \n",
    "    def __init__(self):\n",
    "        self.content = {\n",
    "            'int':              10,\n",
    "            'add1':             7,\n",
    "            'add2':             8,\n",
    "            'tuple':            ('hi', 'world')\n",
    "        }\n",
    "    \n",
    "    def get(self):\n",
    "        return self.process(self.content)\n",
    "    \n",
    "    def get_str(self, key: str, value: int):\n",
    "        return str(value)\n",
    "        \n",
    "    def get_split(self, key: str, value: tuple):\n",
    "        return list(value)\n",
    "        \n",
    "    def get_sum(self, keys, values):\n",
    "        a, b = values\n",
    "        return a + b\n",
    "        \n",
    "    def raise_error(self, *args):\n",
    "        raise TypeError\n",
    "    "
   ],
   "metadata": {
    "collapsed": false,
    "pycharm": {
     "name": "#%%\n",
     "is_executing": false
    }
   }
  },
  {
   "cell_type": "code",
   "execution_count": 57,
   "outputs": [
    {
     "name": "stdout",
     "text": [
      "{'split1': 'hi', 'split2': 'world', 'str': '10', 'sum': 15}\n"
     ],
     "output_type": "stream"
    }
   ],
   "source": [
    "transform_test =  TransformTest()\n",
    "pprint(transform_test.get())"
   ],
   "metadata": {
    "collapsed": false,
    "pycharm": {
     "name": "#%%\n",
     "is_executing": false
    }
   }
  },
  {
   "cell_type": "code",
   "execution_count": 58,
   "outputs": [
    {
     "name": "stdout",
     "text": [
      "{'authors': 'KOPMANN, A*',\n",
      " 'column': 'year',\n",
      " 'consider_additional_pof_structures': 'false',\n",
      " 'consider_online_advance_publication_date': 'true',\n",
      " 'external_publications': 'kit',\n",
      " 'format': 'csv',\n",
      " 'full_text': 'do_not_care',\n",
      " 'key_figures': 'number_of_publications',\n",
      " 'open_access_availability': 'do_not_care',\n",
      " 'publications': 'true',\n",
      " 'row': 'type',\n",
      " 'table_fields': 'author',\n",
      " 'year': '2019-'}\n"
     ],
     "output_type": "stream"
    }
   ],
   "source": [
    "options = {\n",
    "    'author':           'KOPMANN, A*',\n",
    "    'start':            '2019',\n",
    "    'end':              '',\n",
    "    'type':             ''\n",
    "}\n",
    "builder = search.SearchParametersBuilder()\n",
    "builder.set_options(options)\n",
    "parameters = builder.get_parameters()\n",
    "\n",
    "pprint(parameters)"
   ],
   "metadata": {
    "collapsed": false,
    "pycharm": {
     "name": "#%%\n",
     "is_executing": false
    }
   }
  },
  {
   "cell_type": "code",
   "execution_count": 59,
   "outputs": [
    {
     "name": "stdout",
     "text": [
      "<pykitopen.publication.Publication object at 0x7f9ef47b2470>\n",
      "<pykitopen.publication.Publication object at 0x7f9ef47b2320>\n",
      "<pykitopen.publication.Publication object at 0x7f9ef47b2358>\n",
      "<pykitopen.publication.Publication object at 0x7f9ef47b2208>\n",
      "<pykitopen.publication.Publication object at 0x7f9ef47b2710>\n",
      "<pykitopen.publication.Publication object at 0x7f9ef47b25c0>\n",
      "<pykitopen.publication.Publication object at 0x7f9ef47b2a20>\n",
      "<pykitopen.publication.Publication object at 0x7f9ef47b2748>\n",
      "<pykitopen.publication.Publication object at 0x7f9ef47b2a58>\n",
      "<pykitopen.publication.Publication object at 0x7f9ef47b2400>\n",
      "<pykitopen.publication.Publication object at 0x7f9ef47b22b0>\n"
     ],
     "output_type": "stream"
    }
   ],
   "source": [
    "batch = search.SearchBatch(config.DEFAULT, options)\n",
    "batch.execute()\n",
    "\n",
    "for publication in batch:\n",
    "    print(publication)"
   ],
   "metadata": {
    "collapsed": false,
    "pycharm": {
     "name": "#%%\n",
     "is_executing": false
    }
   }
  }
 ],
 "metadata": {
  "kernelspec": {
   "display_name": "PyCharm (anonymousvoting)",
   "language": "python",
   "name": "pycharm-3d0dd80d"
  },
  "language_info": {
   "codemirror_mode": {
    "name": "ipython",
    "version": 2
   },
   "file_extension": ".py",
   "mimetype": "text/x-python",
   "name": "python",
   "nbconvert_exporter": "python",
   "pygments_lexer": "ipython2",
   "version": "2.7.6"
  },
  "pycharm": {
   "stem_cell": {
    "cell_type": "raw",
    "source": [],
    "metadata": {
     "collapsed": false
    }
   }
  }
 },
 "nbformat": 4,
 "nbformat_minor": 0
}
